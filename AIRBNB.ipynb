{
 "cells": [
  {
   "cell_type": "markdown",
   "metadata": {},
   "source": [
    "# Project Team 27 - Airbnb price prediction from an host point of view"
   ]
  },
  {
   "cell_type": "markdown",
   "metadata": {},
   "source": [
    "## Acquisition"
   ]
  },
  {
   "cell_type": "code",
   "execution_count": 1,
   "metadata": {},
   "outputs": [],
   "source": [
    "import pandas as pd\n",
    "import numpy as np\n",
    "import matplotlib.pyplot as plt\n",
    "import utm"
   ]
  },
  {
   "cell_type": "code",
   "execution_count": 2,
   "metadata": {},
   "outputs": [],
   "source": [
    "df = pd.read_csv('../data/AB_NYC_2019.csv')"
   ]
  },
  {
   "cell_type": "code",
   "execution_count": 3,
   "metadata": {},
   "outputs": [
    {
     "data": {
      "text/html": [
       "<div>\n",
       "<style scoped>\n",
       "    .dataframe tbody tr th:only-of-type {\n",
       "        vertical-align: middle;\n",
       "    }\n",
       "\n",
       "    .dataframe tbody tr th {\n",
       "        vertical-align: top;\n",
       "    }\n",
       "\n",
       "    .dataframe thead th {\n",
       "        text-align: right;\n",
       "    }\n",
       "</style>\n",
       "<table border=\"1\" class=\"dataframe\">\n",
       "  <thead>\n",
       "    <tr style=\"text-align: right;\">\n",
       "      <th></th>\n",
       "      <th>id</th>\n",
       "      <th>name</th>\n",
       "      <th>host_id</th>\n",
       "      <th>host_name</th>\n",
       "      <th>neighbourhood_group</th>\n",
       "      <th>neighbourhood</th>\n",
       "      <th>latitude</th>\n",
       "      <th>longitude</th>\n",
       "      <th>room_type</th>\n",
       "      <th>price</th>\n",
       "      <th>minimum_nights</th>\n",
       "      <th>number_of_reviews</th>\n",
       "      <th>last_review</th>\n",
       "      <th>reviews_per_month</th>\n",
       "      <th>calculated_host_listings_count</th>\n",
       "      <th>availability_365</th>\n",
       "    </tr>\n",
       "  </thead>\n",
       "  <tbody>\n",
       "    <tr>\n",
       "      <td>0</td>\n",
       "      <td>2539</td>\n",
       "      <td>Clean &amp; quiet apt home by the park</td>\n",
       "      <td>2787</td>\n",
       "      <td>John</td>\n",
       "      <td>Brooklyn</td>\n",
       "      <td>Kensington</td>\n",
       "      <td>40.64749</td>\n",
       "      <td>-73.97237</td>\n",
       "      <td>Private room</td>\n",
       "      <td>149</td>\n",
       "      <td>1</td>\n",
       "      <td>9</td>\n",
       "      <td>2018-10-19</td>\n",
       "      <td>0.21</td>\n",
       "      <td>6</td>\n",
       "      <td>365</td>\n",
       "    </tr>\n",
       "    <tr>\n",
       "      <td>1</td>\n",
       "      <td>2595</td>\n",
       "      <td>Skylit Midtown Castle</td>\n",
       "      <td>2845</td>\n",
       "      <td>Jennifer</td>\n",
       "      <td>Manhattan</td>\n",
       "      <td>Midtown</td>\n",
       "      <td>40.75362</td>\n",
       "      <td>-73.98377</td>\n",
       "      <td>Entire home/apt</td>\n",
       "      <td>225</td>\n",
       "      <td>1</td>\n",
       "      <td>45</td>\n",
       "      <td>2019-05-21</td>\n",
       "      <td>0.38</td>\n",
       "      <td>2</td>\n",
       "      <td>355</td>\n",
       "    </tr>\n",
       "    <tr>\n",
       "      <td>2</td>\n",
       "      <td>3647</td>\n",
       "      <td>THE VILLAGE OF HARLEM....NEW YORK !</td>\n",
       "      <td>4632</td>\n",
       "      <td>Elisabeth</td>\n",
       "      <td>Manhattan</td>\n",
       "      <td>Harlem</td>\n",
       "      <td>40.80902</td>\n",
       "      <td>-73.94190</td>\n",
       "      <td>Private room</td>\n",
       "      <td>150</td>\n",
       "      <td>3</td>\n",
       "      <td>0</td>\n",
       "      <td>NaN</td>\n",
       "      <td>NaN</td>\n",
       "      <td>1</td>\n",
       "      <td>365</td>\n",
       "    </tr>\n",
       "    <tr>\n",
       "      <td>3</td>\n",
       "      <td>3831</td>\n",
       "      <td>Cozy Entire Floor of Brownstone</td>\n",
       "      <td>4869</td>\n",
       "      <td>LisaRoxanne</td>\n",
       "      <td>Brooklyn</td>\n",
       "      <td>Clinton Hill</td>\n",
       "      <td>40.68514</td>\n",
       "      <td>-73.95976</td>\n",
       "      <td>Entire home/apt</td>\n",
       "      <td>89</td>\n",
       "      <td>1</td>\n",
       "      <td>270</td>\n",
       "      <td>2019-07-05</td>\n",
       "      <td>4.64</td>\n",
       "      <td>1</td>\n",
       "      <td>194</td>\n",
       "    </tr>\n",
       "    <tr>\n",
       "      <td>4</td>\n",
       "      <td>5022</td>\n",
       "      <td>Entire Apt: Spacious Studio/Loft by central park</td>\n",
       "      <td>7192</td>\n",
       "      <td>Laura</td>\n",
       "      <td>Manhattan</td>\n",
       "      <td>East Harlem</td>\n",
       "      <td>40.79851</td>\n",
       "      <td>-73.94399</td>\n",
       "      <td>Entire home/apt</td>\n",
       "      <td>80</td>\n",
       "      <td>10</td>\n",
       "      <td>9</td>\n",
       "      <td>2018-11-19</td>\n",
       "      <td>0.10</td>\n",
       "      <td>1</td>\n",
       "      <td>0</td>\n",
       "    </tr>\n",
       "  </tbody>\n",
       "</table>\n",
       "</div>"
      ],
      "text/plain": [
       "     id                                              name  host_id  \\\n",
       "0  2539                Clean & quiet apt home by the park     2787   \n",
       "1  2595                             Skylit Midtown Castle     2845   \n",
       "2  3647               THE VILLAGE OF HARLEM....NEW YORK !     4632   \n",
       "3  3831                   Cozy Entire Floor of Brownstone     4869   \n",
       "4  5022  Entire Apt: Spacious Studio/Loft by central park     7192   \n",
       "\n",
       "     host_name neighbourhood_group neighbourhood  latitude  longitude  \\\n",
       "0         John            Brooklyn    Kensington  40.64749  -73.97237   \n",
       "1     Jennifer           Manhattan       Midtown  40.75362  -73.98377   \n",
       "2    Elisabeth           Manhattan        Harlem  40.80902  -73.94190   \n",
       "3  LisaRoxanne            Brooklyn  Clinton Hill  40.68514  -73.95976   \n",
       "4        Laura           Manhattan   East Harlem  40.79851  -73.94399   \n",
       "\n",
       "         room_type  price  minimum_nights  number_of_reviews last_review  \\\n",
       "0     Private room    149               1                  9  2018-10-19   \n",
       "1  Entire home/apt    225               1                 45  2019-05-21   \n",
       "2     Private room    150               3                  0         NaN   \n",
       "3  Entire home/apt     89               1                270  2019-07-05   \n",
       "4  Entire home/apt     80              10                  9  2018-11-19   \n",
       "\n",
       "   reviews_per_month  calculated_host_listings_count  availability_365  \n",
       "0               0.21                               6               365  \n",
       "1               0.38                               2               355  \n",
       "2                NaN                               1               365  \n",
       "3               4.64                               1               194  \n",
       "4               0.10                               1                 0  "
      ]
     },
     "execution_count": 3,
     "metadata": {},
     "output_type": "execute_result"
    }
   ],
   "source": [
    "df.head()"
   ]
  },
  {
   "cell_type": "code",
   "execution_count": 4,
   "metadata": {},
   "outputs": [
    {
     "data": {
      "text/plain": [
       "(48895, 16)"
      ]
     },
     "execution_count": 4,
     "metadata": {},
     "output_type": "execute_result"
    }
   ],
   "source": [
    "df.shape"
   ]
  },
  {
   "cell_type": "code",
   "execution_count": 5,
   "metadata": {},
   "outputs": [],
   "source": [
    "# We transform latitude and longitude in UTM coordinates. Because the Earth portion at which we are looking is quite small, UTM provides enough accuracy.\n",
    "df['utm'] = df.apply(lambda row : utm.from_latlon(row.latitude, row.longitude)[:2], axis=1)\n",
    "df['utm_x'] = df.apply(lambda row : row.utm[0], axis=1)\n",
    "df['utm_y'] = df.apply(lambda row : row.utm[1], axis=1)"
   ]
  },
  {
   "cell_type": "code",
   "execution_count": 6,
   "metadata": {},
   "outputs": [],
   "source": [
    "df = df.drop(columns=['name', 'host_name', 'minimum_nights', 'last_review', 'latitude', 'longitude']) #We drop the features we won't use\n",
    "#df = df[df.reviews_per_month.notna()] # we drop the airbnb without review_per_month\n",
    "#df = df[df.availability_365 != 0] # We drop Airbnb that are not available"
   ]
  },
  {
   "cell_type": "code",
   "execution_count": 7,
   "metadata": {},
   "outputs": [
    {
     "data": {
      "text/html": [
       "<div>\n",
       "<style scoped>\n",
       "    .dataframe tbody tr th:only-of-type {\n",
       "        vertical-align: middle;\n",
       "    }\n",
       "\n",
       "    .dataframe tbody tr th {\n",
       "        vertical-align: top;\n",
       "    }\n",
       "\n",
       "    .dataframe thead th {\n",
       "        text-align: right;\n",
       "    }\n",
       "</style>\n",
       "<table border=\"1\" class=\"dataframe\">\n",
       "  <thead>\n",
       "    <tr style=\"text-align: right;\">\n",
       "      <th></th>\n",
       "      <th>id</th>\n",
       "      <th>host_id</th>\n",
       "      <th>neighbourhood_group</th>\n",
       "      <th>neighbourhood</th>\n",
       "      <th>room_type</th>\n",
       "      <th>price</th>\n",
       "      <th>number_of_reviews</th>\n",
       "      <th>reviews_per_month</th>\n",
       "      <th>calculated_host_listings_count</th>\n",
       "      <th>availability_365</th>\n",
       "      <th>utm</th>\n",
       "      <th>utm_x</th>\n",
       "      <th>utm_y</th>\n",
       "    </tr>\n",
       "  </thead>\n",
       "  <tbody>\n",
       "    <tr>\n",
       "      <td>0</td>\n",
       "      <td>2539</td>\n",
       "      <td>2787</td>\n",
       "      <td>Brooklyn</td>\n",
       "      <td>Kensington</td>\n",
       "      <td>Private room</td>\n",
       "      <td>149</td>\n",
       "      <td>9</td>\n",
       "      <td>0.21</td>\n",
       "      <td>6</td>\n",
       "      <td>365</td>\n",
       "      <td>(586884.7816290552, 4500133.886065807)</td>\n",
       "      <td>586884.781629</td>\n",
       "      <td>4.500134e+06</td>\n",
       "    </tr>\n",
       "    <tr>\n",
       "      <td>1</td>\n",
       "      <td>2595</td>\n",
       "      <td>2845</td>\n",
       "      <td>Manhattan</td>\n",
       "      <td>Midtown</td>\n",
       "      <td>Entire home/apt</td>\n",
       "      <td>225</td>\n",
       "      <td>45</td>\n",
       "      <td>0.38</td>\n",
       "      <td>2</td>\n",
       "      <td>355</td>\n",
       "      <td>(585784.6348931462, 4511903.790469252)</td>\n",
       "      <td>585784.634893</td>\n",
       "      <td>4.511904e+06</td>\n",
       "    </tr>\n",
       "    <tr>\n",
       "      <td>2</td>\n",
       "      <td>3647</td>\n",
       "      <td>4632</td>\n",
       "      <td>Manhattan</td>\n",
       "      <td>Harlem</td>\n",
       "      <td>Private room</td>\n",
       "      <td>150</td>\n",
       "      <td>0</td>\n",
       "      <td>NaN</td>\n",
       "      <td>1</td>\n",
       "      <td>365</td>\n",
       "      <td>(589244.9423654521, 4518095.410242636)</td>\n",
       "      <td>589244.942365</td>\n",
       "      <td>4.518095e+06</td>\n",
       "    </tr>\n",
       "    <tr>\n",
       "      <td>3</td>\n",
       "      <td>3831</td>\n",
       "      <td>4869</td>\n",
       "      <td>Brooklyn</td>\n",
       "      <td>Clinton Hill</td>\n",
       "      <td>Entire home/apt</td>\n",
       "      <td>89</td>\n",
       "      <td>270</td>\n",
       "      <td>4.64</td>\n",
       "      <td>1</td>\n",
       "      <td>194</td>\n",
       "      <td>(587901.5063912352, 4504325.790207911)</td>\n",
       "      <td>587901.506391</td>\n",
       "      <td>4.504326e+06</td>\n",
       "    </tr>\n",
       "    <tr>\n",
       "      <td>4</td>\n",
       "      <td>5022</td>\n",
       "      <td>7192</td>\n",
       "      <td>Manhattan</td>\n",
       "      <td>East Harlem</td>\n",
       "      <td>Entire home/apt</td>\n",
       "      <td>80</td>\n",
       "      <td>9</td>\n",
       "      <td>0.10</td>\n",
       "      <td>1</td>\n",
       "      <td>0</td>\n",
       "      <td>(589082.7126969496, 4516926.585300169)</td>\n",
       "      <td>589082.712697</td>\n",
       "      <td>4.516927e+06</td>\n",
       "    </tr>\n",
       "  </tbody>\n",
       "</table>\n",
       "</div>"
      ],
      "text/plain": [
       "     id  host_id neighbourhood_group neighbourhood        room_type  price  \\\n",
       "0  2539     2787            Brooklyn    Kensington     Private room    149   \n",
       "1  2595     2845           Manhattan       Midtown  Entire home/apt    225   \n",
       "2  3647     4632           Manhattan        Harlem     Private room    150   \n",
       "3  3831     4869            Brooklyn  Clinton Hill  Entire home/apt     89   \n",
       "4  5022     7192           Manhattan   East Harlem  Entire home/apt     80   \n",
       "\n",
       "   number_of_reviews  reviews_per_month  calculated_host_listings_count  \\\n",
       "0                  9               0.21                               6   \n",
       "1                 45               0.38                               2   \n",
       "2                  0                NaN                               1   \n",
       "3                270               4.64                               1   \n",
       "4                  9               0.10                               1   \n",
       "\n",
       "   availability_365                                     utm          utm_x  \\\n",
       "0               365  (586884.7816290552, 4500133.886065807)  586884.781629   \n",
       "1               355  (585784.6348931462, 4511903.790469252)  585784.634893   \n",
       "2               365  (589244.9423654521, 4518095.410242636)  589244.942365   \n",
       "3               194  (587901.5063912352, 4504325.790207911)  587901.506391   \n",
       "4                 0  (589082.7126969496, 4516926.585300169)  589082.712697   \n",
       "\n",
       "          utm_y  \n",
       "0  4.500134e+06  \n",
       "1  4.511904e+06  \n",
       "2  4.518095e+06  \n",
       "3  4.504326e+06  \n",
       "4  4.516927e+06  "
      ]
     },
     "execution_count": 7,
     "metadata": {},
     "output_type": "execute_result"
    }
   ],
   "source": [
    "df.head()"
   ]
  },
  {
   "cell_type": "code",
   "execution_count": 8,
   "metadata": {},
   "outputs": [],
   "source": [
    "# only taking a sample of the full dataframe, 50'000 Airbnb lead to too much computations.\n",
    "seed = 1\n",
    "n = 5000\n",
    "df_red = df.sample(n, random_state=seed)"
   ]
  },
  {
   "cell_type": "code",
   "execution_count": 9,
   "metadata": {},
   "outputs": [
    {
     "data": {
      "image/png": "[encoded data removed]",
      "text/plain": [
       "<Figure size 432x288 with 1 Axes>"
      ]
     },
     "metadata": {
      "needs_background": "light"
     },
     "output_type": "display_data"
    }
   ],
   "source": [
    "# boxplot of the price values, we see a lot of outliers\n",
    "plt.boxplot(df_red.price);"
   ]
  },
  {
   "cell_type": "code",
   "execution_count": 10,
   "metadata": {},
   "outputs": [
    {
     "data": {
      "text/plain": [
       "0.25     67.0\n",
       "0.50    105.0\n",
       "0.75    175.0\n",
       "0.95    350.0\n",
       "Name: price, dtype: float64"
      ]
     },
     "execution_count": 10,
     "metadata": {},
     "output_type": "execute_result"
    }
   ],
   "source": [
    "# with quantiles\n",
    "df_red.price.quantile([0.25,0.5,0.75,0.95])"
   ]
  },
  {
   "cell_type": "code",
   "execution_count": 11,
   "metadata": {},
   "outputs": [
    {
     "data": {
      "text/plain": [
       "(4770, 13)"
      ]
     },
     "execution_count": 11,
     "metadata": {},
     "output_type": "execute_result"
    }
   ],
   "source": [
    "# Because it's hard to deal with outliers in ML, we decide to only keep airbnbs with a price less than the 0.95 quantile\n",
    "# Also, we make the assumption that close AirBnb are about the same pricethe goal is to find best airbnb, so best value for money.\n",
    "upper_bound = df_red.price.quantile([0.95]).values[0]\n",
    "df_red = df_red[df_red.price <= upper_bound]\n",
    "df_red.shape"
   ]
  },
  {
   "cell_type": "code",
   "execution_count": 12,
   "metadata": {},
   "outputs": [],
   "source": [
    "# standardizing the UTM coordinates\n",
    "df_red.utm_x = (df_red.utm_x - df_red.utm_x.mean()) / df_red.utm_x.std()\n",
    "df_red.utm_y = (df_red.utm_y - df_red.utm_y.mean()) / df_red.utm_y.std()\n",
    "df_coord = df_red[['utm_x', 'utm_y']]"
   ]
  },
  {
   "cell_type": "code",
   "execution_count": 13,
   "metadata": {},
   "outputs": [
    {
     "data": {
      "text/html": [
       "<div>\n",
       "<style scoped>\n",
       "    .dataframe tbody tr th:only-of-type {\n",
       "        vertical-align: middle;\n",
       "    }\n",
       "\n",
       "    .dataframe tbody tr th {\n",
       "        vertical-align: top;\n",
       "    }\n",
       "\n",
       "    .dataframe thead th {\n",
       "        text-align: right;\n",
       "    }\n",
       "</style>\n",
       "<table border=\"1\" class=\"dataframe\">\n",
       "  <thead>\n",
       "    <tr style=\"text-align: right;\">\n",
       "      <th></th>\n",
       "      <th>utm_x</th>\n",
       "      <th>utm_y</th>\n",
       "    </tr>\n",
       "  </thead>\n",
       "  <tbody>\n",
       "    <tr>\n",
       "      <td>18907</td>\n",
       "      <td>1.525779</td>\n",
       "      <td>0.321606</td>\n",
       "    </tr>\n",
       "    <tr>\n",
       "      <td>46663</td>\n",
       "      <td>0.587161</td>\n",
       "      <td>0.545896</td>\n",
       "    </tr>\n",
       "    <tr>\n",
       "      <td>19757</td>\n",
       "      <td>-0.521769</td>\n",
       "      <td>-0.582060</td>\n",
       "    </tr>\n",
       "    <tr>\n",
       "      <td>9705</td>\n",
       "      <td>-0.037184</td>\n",
       "      <td>-0.080208</td>\n",
       "    </tr>\n",
       "    <tr>\n",
       "      <td>12637</td>\n",
       "      <td>-0.111270</td>\n",
       "      <td>-0.810996</td>\n",
       "    </tr>\n",
       "  </tbody>\n",
       "</table>\n",
       "</div>"
      ],
      "text/plain": [
       "          utm_x     utm_y\n",
       "18907  1.525779  0.321606\n",
       "46663  0.587161  0.545896\n",
       "19757 -0.521769 -0.582060\n",
       "9705  -0.037184 -0.080208\n",
       "12637 -0.111270 -0.810996"
      ]
     },
     "execution_count": 13,
     "metadata": {},
     "output_type": "execute_result"
    }
   ],
   "source": [
    "df_coord.head()"
   ]
  },
  {
   "cell_type": "code",
   "execution_count": 14,
   "metadata": {},
   "outputs": [],
   "source": [
    "# computing distance between all airbnbs.\n",
    "from scipy.spatial.distance import squareform, pdist\n",
    "df_dist = pd.DataFrame(squareform(pdist(df_coord.iloc[ :, 0:])), columns=df_coord.index, index=df_coord.index)"
   ]
  },
  {
   "cell_type": "code",
   "execution_count": 15,
   "metadata": {},
   "outputs": [
    {
     "data": {
      "text/html": [
       "<div>\n",
       "<style scoped>\n",
       "    .dataframe tbody tr th:only-of-type {\n",
       "        vertical-align: middle;\n",
       "    }\n",
       "\n",
       "    .dataframe tbody tr th {\n",
       "        vertical-align: top;\n",
       "    }\n",
       "\n",
       "    .dataframe thead th {\n",
       "        text-align: right;\n",
       "    }\n",
       "</style>\n",
       "<table border=\"1\" class=\"dataframe\">\n",
       "  <thead>\n",
       "    <tr style=\"text-align: right;\">\n",
       "      <th></th>\n",
       "      <th>18907</th>\n",
       "      <th>46663</th>\n",
       "      <th>19757</th>\n",
       "      <th>9705</th>\n",
       "      <th>12637</th>\n",
       "      <th>19383</th>\n",
       "      <th>35358</th>\n",
       "      <th>28001</th>\n",
       "      <th>7201</th>\n",
       "      <th>12619</th>\n",
       "      <th>...</th>\n",
       "      <th>7233</th>\n",
       "      <th>19220</th>\n",
       "      <th>31563</th>\n",
       "      <th>36874</th>\n",
       "      <th>44418</th>\n",
       "      <th>31193</th>\n",
       "      <th>21368</th>\n",
       "      <th>7460</th>\n",
       "      <th>42535</th>\n",
       "      <th>30115</th>\n",
       "    </tr>\n",
       "  </thead>\n",
       "  <tbody>\n",
       "    <tr>\n",
       "      <td>18907</td>\n",
       "      <td>0.000000</td>\n",
       "      <td>0.965045</td>\n",
       "      <td>2.238094</td>\n",
       "      <td>1.613787</td>\n",
       "      <td>1.990657</td>\n",
       "      <td>1.905653</td>\n",
       "      <td>0.416122</td>\n",
       "      <td>2.186996</td>\n",
       "      <td>1.437458</td>\n",
       "      <td>2.615418</td>\n",
       "      <td>...</td>\n",
       "      <td>1.818962</td>\n",
       "      <td>2.480550</td>\n",
       "      <td>1.528200</td>\n",
       "      <td>1.760461</td>\n",
       "      <td>1.079493</td>\n",
       "      <td>1.636138</td>\n",
       "      <td>0.472098</td>\n",
       "      <td>2.497079</td>\n",
       "      <td>2.328085</td>\n",
       "      <td>5.019624</td>\n",
       "    </tr>\n",
       "    <tr>\n",
       "      <td>46663</td>\n",
       "      <td>0.965045</td>\n",
       "      <td>0.000000</td>\n",
       "      <td>1.581774</td>\n",
       "      <td>0.884202</td>\n",
       "      <td>1.526094</td>\n",
       "      <td>1.553706</td>\n",
       "      <td>0.570557</td>\n",
       "      <td>1.725770</td>\n",
       "      <td>1.155485</td>\n",
       "      <td>1.718726</td>\n",
       "      <td>...</td>\n",
       "      <td>1.563938</td>\n",
       "      <td>2.112030</td>\n",
       "      <td>1.018703</td>\n",
       "      <td>1.321656</td>\n",
       "      <td>1.074811</td>\n",
       "      <td>0.751260</td>\n",
       "      <td>1.389383</td>\n",
       "      <td>1.978869</td>\n",
       "      <td>1.476063</td>\n",
       "      <td>4.428261</td>\n",
       "    </tr>\n",
       "    <tr>\n",
       "      <td>19757</td>\n",
       "      <td>2.238094</td>\n",
       "      <td>1.581774</td>\n",
       "      <td>0.000000</td>\n",
       "      <td>0.697623</td>\n",
       "      <td>0.470022</td>\n",
       "      <td>0.695116</td>\n",
       "      <td>1.862666</td>\n",
       "      <td>0.478435</td>\n",
       "      <td>0.942458</td>\n",
       "      <td>0.916533</td>\n",
       "      <td>...</td>\n",
       "      <td>0.877145</td>\n",
       "      <td>0.834655</td>\n",
       "      <td>0.719660</td>\n",
       "      <td>0.600408</td>\n",
       "      <td>1.351727</td>\n",
       "      <td>1.802124</td>\n",
       "      <td>2.448420</td>\n",
       "      <td>0.498306</td>\n",
       "      <td>0.620963</td>\n",
       "      <td>2.847888</td>\n",
       "    </tr>\n",
       "    <tr>\n",
       "      <td>9705</td>\n",
       "      <td>1.613787</td>\n",
       "      <td>0.884202</td>\n",
       "      <td>0.697623</td>\n",
       "      <td>0.000000</td>\n",
       "      <td>0.734534</td>\n",
       "      <td>0.852281</td>\n",
       "      <td>1.213629</td>\n",
       "      <td>0.911372</td>\n",
       "      <td>0.690753</td>\n",
       "      <td>1.069665</td>\n",
       "      <td>...</td>\n",
       "      <td>0.950008</td>\n",
       "      <td>1.322537</td>\n",
       "      <td>0.367230</td>\n",
       "      <td>0.601007</td>\n",
       "      <td>0.961996</td>\n",
       "      <td>1.199215</td>\n",
       "      <td>1.897849</td>\n",
       "      <td>1.119488</td>\n",
       "      <td>0.743229</td>\n",
       "      <td>3.544452</td>\n",
       "    </tr>\n",
       "    <tr>\n",
       "      <td>12637</td>\n",
       "      <td>1.990657</td>\n",
       "      <td>1.526094</td>\n",
       "      <td>0.470022</td>\n",
       "      <td>0.734534</td>\n",
       "      <td>0.000000</td>\n",
       "      <td>0.225114</td>\n",
       "      <td>1.662099</td>\n",
       "      <td>0.203596</td>\n",
       "      <td>0.573080</td>\n",
       "      <td>1.361515</td>\n",
       "      <td>...</td>\n",
       "      <td>0.407704</td>\n",
       "      <td>0.593603</td>\n",
       "      <td>0.511738</td>\n",
       "      <td>0.230477</td>\n",
       "      <td>0.988478</td>\n",
       "      <td>1.933735</td>\n",
       "      <td>2.126394</td>\n",
       "      <td>0.506845</td>\n",
       "      <td>1.037140</td>\n",
       "      <td>3.029048</td>\n",
       "    </tr>\n",
       "  </tbody>\n",
       "</table>\n",
       "<p>5 rows × 4770 columns</p>\n",
       "</div>"
      ],
      "text/plain": [
       "          18907     46663     19757     9705      12637     19383     35358  \\\n",
       "18907  0.000000  0.965045  2.238094  1.613787  1.990657  1.905653  0.416122   \n",
       "46663  0.965045  0.000000  1.581774  0.884202  1.526094  1.553706  0.570557   \n",
       "19757  2.238094  1.581774  0.000000  0.697623  0.470022  0.695116  1.862666   \n",
       "9705   1.613787  0.884202  0.697623  0.000000  0.734534  0.852281  1.213629   \n",
       "12637  1.990657  1.526094  0.470022  0.734534  0.000000  0.225114  1.662099   \n",
       "\n",
       "          28001     7201      12619  ...     7233      19220     31563  \\\n",
       "18907  2.186996  1.437458  2.615418  ...  1.818962  2.480550  1.528200   \n",
       "46663  1.725770  1.155485  1.718726  ...  1.563938  2.112030  1.018703   \n",
       "19757  0.478435  0.942458  0.916533  ...  0.877145  0.834655  0.719660   \n",
       "9705   0.911372  0.690753  1.069665  ...  0.950008  1.322537  0.367230   \n",
       "12637  0.203596  0.573080  1.361515  ...  0.407704  0.593603  0.511738   \n",
       "\n",
       "          36874     44418     31193     21368     7460      42535     30115  \n",
       "18907  1.760461  1.079493  1.636138  0.472098  2.497079  2.328085  5.019624  \n",
       "46663  1.321656  1.074811  0.751260  1.389383  1.978869  1.476063  4.428261  \n",
       "19757  0.600408  1.351727  1.802124  2.448420  0.498306  0.620963  2.847888  \n",
       "9705   0.601007  0.961996  1.199215  1.897849  1.119488  0.743229  3.544452  \n",
       "12637  0.230477  0.988478  1.933735  2.126394  0.506845  1.037140  3.029048  \n",
       "\n",
       "[5 rows x 4770 columns]"
      ]
     },
     "execution_count": 15,
     "metadata": {},
     "output_type": "execute_result"
    }
   ],
   "source": [
    "df_dist.head()"
   ]
  },
  {
   "cell_type": "code",
   "execution_count": 16,
   "metadata": {},
   "outputs": [
    {
     "data": {
      "text/html": [
       "<div>\n",
       "<style scoped>\n",
       "    .dataframe tbody tr th:only-of-type {\n",
       "        vertical-align: middle;\n",
       "    }\n",
       "\n",
       "    .dataframe tbody tr th {\n",
       "        vertical-align: top;\n",
       "    }\n",
       "\n",
       "    .dataframe thead th {\n",
       "        text-align: right;\n",
       "    }\n",
       "</style>\n",
       "<table border=\"1\" class=\"dataframe\">\n",
       "  <thead>\n",
       "    <tr style=\"text-align: right;\">\n",
       "      <th></th>\n",
       "      <th>18907</th>\n",
       "      <th>46663</th>\n",
       "      <th>19757</th>\n",
       "      <th>9705</th>\n",
       "      <th>12637</th>\n",
       "      <th>19383</th>\n",
       "      <th>35358</th>\n",
       "      <th>28001</th>\n",
       "      <th>7201</th>\n",
       "      <th>12619</th>\n",
       "      <th>...</th>\n",
       "      <th>7233</th>\n",
       "      <th>19220</th>\n",
       "      <th>31563</th>\n",
       "      <th>36874</th>\n",
       "      <th>44418</th>\n",
       "      <th>31193</th>\n",
       "      <th>21368</th>\n",
       "      <th>7460</th>\n",
       "      <th>42535</th>\n",
       "      <th>30115</th>\n",
       "    </tr>\n",
       "  </thead>\n",
       "  <tbody>\n",
       "    <tr>\n",
       "      <td>18907</td>\n",
       "      <td>0.0</td>\n",
       "      <td>0.0</td>\n",
       "      <td>0.0</td>\n",
       "      <td>0.0</td>\n",
       "      <td>0.0</td>\n",
       "      <td>0.000000</td>\n",
       "      <td>0.416122</td>\n",
       "      <td>0.000000</td>\n",
       "      <td>0.0</td>\n",
       "      <td>0.0</td>\n",
       "      <td>...</td>\n",
       "      <td>0.0</td>\n",
       "      <td>0.0</td>\n",
       "      <td>0.0</td>\n",
       "      <td>0.000000</td>\n",
       "      <td>0.0</td>\n",
       "      <td>0.0</td>\n",
       "      <td>0.472098</td>\n",
       "      <td>0.0</td>\n",
       "      <td>0.0</td>\n",
       "      <td>0.0</td>\n",
       "    </tr>\n",
       "    <tr>\n",
       "      <td>46663</td>\n",
       "      <td>0.0</td>\n",
       "      <td>0.0</td>\n",
       "      <td>0.0</td>\n",
       "      <td>0.0</td>\n",
       "      <td>0.0</td>\n",
       "      <td>0.000000</td>\n",
       "      <td>0.570557</td>\n",
       "      <td>0.000000</td>\n",
       "      <td>0.0</td>\n",
       "      <td>0.0</td>\n",
       "      <td>...</td>\n",
       "      <td>0.0</td>\n",
       "      <td>0.0</td>\n",
       "      <td>0.0</td>\n",
       "      <td>0.000000</td>\n",
       "      <td>0.0</td>\n",
       "      <td>0.0</td>\n",
       "      <td>0.000000</td>\n",
       "      <td>0.0</td>\n",
       "      <td>0.0</td>\n",
       "      <td>0.0</td>\n",
       "    </tr>\n",
       "    <tr>\n",
       "      <td>19757</td>\n",
       "      <td>0.0</td>\n",
       "      <td>0.0</td>\n",
       "      <td>0.0</td>\n",
       "      <td>0.0</td>\n",
       "      <td>0.0</td>\n",
       "      <td>0.000000</td>\n",
       "      <td>0.000000</td>\n",
       "      <td>0.000000</td>\n",
       "      <td>0.0</td>\n",
       "      <td>0.0</td>\n",
       "      <td>...</td>\n",
       "      <td>0.0</td>\n",
       "      <td>0.0</td>\n",
       "      <td>0.0</td>\n",
       "      <td>0.000000</td>\n",
       "      <td>0.0</td>\n",
       "      <td>0.0</td>\n",
       "      <td>0.000000</td>\n",
       "      <td>0.0</td>\n",
       "      <td>0.0</td>\n",
       "      <td>0.0</td>\n",
       "    </tr>\n",
       "    <tr>\n",
       "      <td>9705</td>\n",
       "      <td>0.0</td>\n",
       "      <td>0.0</td>\n",
       "      <td>0.0</td>\n",
       "      <td>0.0</td>\n",
       "      <td>0.0</td>\n",
       "      <td>0.000000</td>\n",
       "      <td>0.000000</td>\n",
       "      <td>0.000000</td>\n",
       "      <td>0.0</td>\n",
       "      <td>0.0</td>\n",
       "      <td>...</td>\n",
       "      <td>0.0</td>\n",
       "      <td>0.0</td>\n",
       "      <td>0.0</td>\n",
       "      <td>0.000000</td>\n",
       "      <td>0.0</td>\n",
       "      <td>0.0</td>\n",
       "      <td>0.000000</td>\n",
       "      <td>0.0</td>\n",
       "      <td>0.0</td>\n",
       "      <td>0.0</td>\n",
       "    </tr>\n",
       "    <tr>\n",
       "      <td>12637</td>\n",
       "      <td>0.0</td>\n",
       "      <td>0.0</td>\n",
       "      <td>0.0</td>\n",
       "      <td>0.0</td>\n",
       "      <td>0.0</td>\n",
       "      <td>0.225114</td>\n",
       "      <td>0.000000</td>\n",
       "      <td>0.203596</td>\n",
       "      <td>0.0</td>\n",
       "      <td>0.0</td>\n",
       "      <td>...</td>\n",
       "      <td>0.0</td>\n",
       "      <td>0.0</td>\n",
       "      <td>0.0</td>\n",
       "      <td>0.230477</td>\n",
       "      <td>0.0</td>\n",
       "      <td>0.0</td>\n",
       "      <td>0.000000</td>\n",
       "      <td>0.0</td>\n",
       "      <td>0.0</td>\n",
       "      <td>0.0</td>\n",
       "    </tr>\n",
       "  </tbody>\n",
       "</table>\n",
       "<p>5 rows × 4770 columns</p>\n",
       "</div>"
      ],
      "text/plain": [
       "       18907  46663  19757  9705   12637     19383     35358     28001  7201   \\\n",
       "18907    0.0    0.0    0.0    0.0    0.0  0.000000  0.416122  0.000000    0.0   \n",
       "46663    0.0    0.0    0.0    0.0    0.0  0.000000  0.570557  0.000000    0.0   \n",
       "19757    0.0    0.0    0.0    0.0    0.0  0.000000  0.000000  0.000000    0.0   \n",
       "9705     0.0    0.0    0.0    0.0    0.0  0.000000  0.000000  0.000000    0.0   \n",
       "12637    0.0    0.0    0.0    0.0    0.0  0.225114  0.000000  0.203596    0.0   \n",
       "\n",
       "       12619  ...  7233   19220  31563     36874  44418  31193     21368  \\\n",
       "18907    0.0  ...    0.0    0.0    0.0  0.000000    0.0    0.0  0.472098   \n",
       "46663    0.0  ...    0.0    0.0    0.0  0.000000    0.0    0.0  0.000000   \n",
       "19757    0.0  ...    0.0    0.0    0.0  0.000000    0.0    0.0  0.000000   \n",
       "9705     0.0  ...    0.0    0.0    0.0  0.000000    0.0    0.0  0.000000   \n",
       "12637    0.0  ...    0.0    0.0    0.0  0.230477    0.0    0.0  0.000000   \n",
       "\n",
       "       7460   42535  30115  \n",
       "18907    0.0    0.0    0.0  \n",
       "46663    0.0    0.0    0.0  \n",
       "19757    0.0    0.0    0.0  \n",
       "9705     0.0    0.0    0.0  \n",
       "12637    0.0    0.0    0.0  \n",
       "\n",
       "[5 rows x 4770 columns]"
      ]
     },
     "execution_count": 16,
     "metadata": {},
     "output_type": "execute_result"
    }
   ],
   "source": [
    "df_knn = df_dist.copy()\n",
    "\n",
    "# Get the k nearest neighbour from each node\n",
    "for column in df_knn:\n",
    "    column_values = df_dist[column].to_numpy() # Transforming column of dataframe into numpy array\n",
    "    number_of_neighbour = 201 # Number of neighbour we want\n",
    "    result = np.argpartition(column_values, number_of_neighbour) # Get indexes from min values\n",
    "    min_values = column_values[result[:number_of_neighbour]] # Get min values from indexes\n",
    "    min_values_sorted = np.sort(min_values) # Sort the min values\n",
    "    threshold = min_values_sorted[-1] # taking the max of the min values to thersold\n",
    "    df_knn[column] = df_knn[column].where(df_knn[column] <= threshold, 0) #thresholding\n",
    "    \n",
    "df_knn.head()"
   ]
  },
  {
   "cell_type": "code",
   "execution_count": 17,
   "metadata": {},
   "outputs": [
    {
     "name": "stdout",
     "output_type": "stream",
     "text": [
      "The mean distance is 1.688530948732738\n"
     ]
    }
   ],
   "source": [
    "mean = df_dist.mean().mean()\n",
    "print('The mean distance is {m}'.format(m=mean))"
   ]
  },
  {
   "cell_type": "code",
   "execution_count": 18,
   "metadata": {},
   "outputs": [],
   "source": [
    "epsilon = 0.2\n",
    "sigma = mean * 0.7\n",
    "def sparsify(x):\n",
    "    sigm_x = np.exp(- x**2 / (2*sigma**2))\n",
    "    if sigm_x < epsilon:\n",
    "        return 0\n",
    "    return sigm_x"
   ]
  },
  {
   "cell_type": "code",
   "execution_count": 19,
   "metadata": {},
   "outputs": [
    {
     "name": "stdout",
     "output_type": "stream",
     "text": [
      "there are 16538114 non-zero entries\n"
     ]
    }
   ],
   "source": [
    "# compute weights of the edges, sparsifying.\n",
    "df_dist_s = df_dist.applymap(sparsify)\n",
    "print('there are {i} non-zero entries'.format(i = df_dist_s.astype(bool).sum().sum()))"
   ]
  },
  {
   "cell_type": "code",
   "execution_count": 20,
   "metadata": {},
   "outputs": [
    {
     "data": {
      "image/png": "[encoded data removed]",
      "text/plain": [
       "<Figure size 432x288 with 1 Axes>"
      ]
     },
     "metadata": {
      "needs_background": "light"
     },
     "output_type": "display_data"
    }
   ],
   "source": [
    "# create adjacency matrix, as a numpy array\n",
    "adj_dist = df_dist_s.values - np.eye(df_dist_s.shape[0])\n",
    "plt.spy(adj_dist)\n",
    "plt.show()"
   ]
  },
  {
   "cell_type": "code",
   "execution_count": 21,
   "metadata": {},
   "outputs": [],
   "source": [
    "# dictionnary to rename the labels of the nodes according to their indice in the df\n",
    "nodes_labels = dict(zip(np.arange(n), df_dist_s.index))"
   ]
  },
  {
   "cell_type": "code",
   "execution_count": 22,
   "metadata": {},
   "outputs": [
    {
     "data": {
      "image/png": "[encoded data removed]",
      "text/plain": [
       "<Figure size 432x288 with 1 Axes>"
      ]
     },
     "metadata": {
      "needs_background": "light"
     },
     "output_type": "display_data"
    }
   ],
   "source": [
    "df_knn = df_knn.astype(bool)\n",
    "adj_knn = np.logical_or(df_knn.values, df_knn.values.T)\n",
    "plt.spy(adj_knn)\n",
    "plt.show()"
   ]
  },
  {
   "cell_type": "code",
   "execution_count": 23,
   "metadata": {},
   "outputs": [],
   "source": [
    "adj = adj_knn # 'adj_knn' to use k-NN algorith, 'adj_dist' to use RBF-Kernel"
   ]
  },
  {
   "cell_type": "markdown",
   "metadata": {},
   "source": [
    "## Exploration\n",
    "Inspecting some of the features"
   ]
  },
  {
   "cell_type": "code",
   "execution_count": 24,
   "metadata": {},
   "outputs": [
    {
     "data": {
      "text/plain": [
       "Manhattan        2008\n",
       "Brooklyn         2007\n",
       "Queens            605\n",
       "Bronx             114\n",
       "Staten Island      36\n",
       "Name: neighbourhood_group, dtype: int64"
      ]
     },
     "execution_count": 24,
     "metadata": {},
     "output_type": "execute_result"
    }
   ],
   "source": [
    "# different neighbourhood\n",
    "df_red.neighbourhood_group.value_counts()"
   ]
  },
  {
   "cell_type": "code",
   "execution_count": 25,
   "metadata": {},
   "outputs": [
    {
     "data": {
      "text/plain": [
       "Entire home/apt    2357\n",
       "Private room       2281\n",
       "Shared room         132\n",
       "Name: room_type, dtype: int64"
      ]
     },
     "execution_count": 25,
     "metadata": {},
     "output_type": "execute_result"
    }
   ],
   "source": [
    "# different room types\n",
    "df_red.room_type.value_counts()"
   ]
  },
  {
   "cell_type": "code",
   "execution_count": 26,
   "metadata": {},
   "outputs": [],
   "source": [
    "# create networkx graph, renaming nodes\n",
    "import networkx as nx\n",
    "\n",
    "G = nx.from_numpy_matrix(adj)\n",
    "G = nx.relabel_nodes(G, nodes_labels)"
   ]
  },
  {
   "cell_type": "code",
   "execution_count": 27,
   "metadata": {},
   "outputs": [
    {
     "data": {
      "image/png": "[encoded data removed]",
      "text/plain": [
       "<Figure size 432x288 with 1 Axes>"
      ]
     },
     "metadata": {
      "needs_background": "light"
     },
     "output_type": "display_data"
    }
   ],
   "source": [
    "# Plotting the degree distribution\n",
    "plt.hist([G.degree(n) for n in G.nodes()])\n",
    "plt.show()"
   ]
  },
  {
   "cell_type": "code",
   "execution_count": 28,
   "metadata": {},
   "outputs": [
    {
     "name": "stdout",
     "output_type": "stream",
     "text": [
      "242.99664570230607\n"
     ]
    }
   ],
   "source": [
    "degree_distri = np.asarray([G.degree(n) for n in G.nodes()])\n",
    "average_degree = (1/G.number_of_nodes())*degree_distri.sum()\n",
    "print(average_degree)"
   ]
  },
  {
   "cell_type": "code",
   "execution_count": 29,
   "metadata": {},
   "outputs": [],
   "source": [
    "# DON'T RUN IF NO CONNECTED GRAPH\n",
    "# check if the graph is connected, and compute the diameter\n",
    "# epsilon=0.2 and c=0.7 gives connected graph for n=5000 but doesn't work with spectral clustering...\n",
    "# epsilon=0.5 and c=0.1 gives not connected graph for n=5000 but work with spectral clustering (3 clusters)...\n",
    "#diameter_matrix = np.zeros([len(adj), len(adj)])\n",
    "\n",
    "# loop until all elements are non-zero\n",
    "#diameter = -1\n",
    "#for i in range(0, 10):\n",
    "    #diameter_matrix += np.linalg.matrix_power(adj, i)\n",
    "    #if diameter_matrix.all() == True:\n",
    "    #    diameter = i\n",
    "    #    break\n",
    "\n",
    "#print(f\"The diameter is: {diameter}\")\n",
    "#print(nx.diameter(G))"
   ]
  },
  {
   "cell_type": "code",
   "execution_count": 30,
   "metadata": {},
   "outputs": [],
   "source": [
    "# create dictionnary for nodes positions (such that the graph is plotted accordinf to NY shape)\n",
    "coord_dict = df_red.utm.to_dict()"
   ]
  },
  {
   "cell_type": "code",
   "execution_count": 31,
   "metadata": {},
   "outputs": [
    {
     "data": {
      "image/png": "[encoded data removed]",
      "text/plain": [
       "<Figure size 864x576 with 1 Axes>"
      ]
     },
     "metadata": {},
     "output_type": "display_data"
    }
   ],
   "source": [
    "# graph of the airbnb with fixed position\n",
    "# take time when lot of edges, set edgelist=[] or remove 'edgelist' parameter to plot edges\n",
    "plt.figure(figsize=(12,8))\n",
    "nx.draw_networkx(G, pos=coord_dict, with_labels=False, node_size=0.1, node_color='orange', width=0.005, edgelist=[])\n",
    "plt.show()"
   ]
  },
  {
   "cell_type": "code",
   "execution_count": 32,
   "metadata": {},
   "outputs": [],
   "source": [
    "# We plot the airbnb with different color according to their neighbouhood\n",
    "\n",
    "neighbourhoud_to_int = {\n",
    "    'Manhattan': 1,\n",
    "    'Brooklyn': 2,\n",
    "    'Queens': 3,\n",
    "    'Bronx': 4,\n",
    "    'Staten Island': 5\n",
    "}"
   ]
  },
  {
   "cell_type": "code",
   "execution_count": 33,
   "metadata": {},
   "outputs": [],
   "source": [
    "# transforming neigbourhood names and room types strings into an indice\n",
    "df_red['neighbourhood_group_indice'] = df_red.neighbourhood_group.apply(lambda x: neighbourhoud_to_int.get(x)).values"
   ]
  },
  {
   "cell_type": "code",
   "execution_count": 34,
   "metadata": {},
   "outputs": [
    {
     "data": {
      "image/png": "[encoded data removed]",
      "text/plain": [
       "<Figure size 864x576 with 1 Axes>"
      ]
     },
     "metadata": {},
     "output_type": "display_data"
    }
   ],
   "source": [
    "# graph of the airbnb with groundtruth\n",
    "plt.figure(figsize=(12,8))\n",
    "nx.draw_networkx(G, pos=coord_dict, with_labels=False, node_size=0.1, cmap=plt.get_cmap('rainbow'), node_color=df_red.neighbourhood_group_indice, edgelist=[])\n",
    "plt.show()"
   ]
  },
  {
   "cell_type": "code",
   "execution_count": 35,
   "metadata": {},
   "outputs": [],
   "source": [
    "#Graph spectral analysis with py_gsp\n",
    "from pygsp import graphs, filters, plotting\n",
    "from pygsp.graphs import Graph\n",
    "\n",
    "G_gsp = graphs.Graph(adj)"
   ]
  },
  {
   "cell_type": "code",
   "execution_count": 36,
   "metadata": {},
   "outputs": [
    {
     "data": {
      "text/plain": [
       "True"
      ]
     },
     "execution_count": 36,
     "metadata": {},
     "output_type": "execute_result"
    }
   ],
   "source": [
    "G_gsp.is_connected()"
   ]
  },
  {
   "cell_type": "code",
   "execution_count": 37,
   "metadata": {},
   "outputs": [],
   "source": [
    "G_gsp.set_coordinates(kind=np.array(list(coord_dict.values())))"
   ]
  },
  {
   "cell_type": "code",
   "execution_count": 38,
   "metadata": {},
   "outputs": [
    {
     "name": "stderr",
     "output_type": "stream",
     "text": [
      "2020-01-10 18:55:43,410:[WARNING](pygsp.graphs.graph.compute_fourier_basis): Computing the full eigendecomposition of a large matrix (4770 x 4770) may take some time.\n"
     ]
    }
   ],
   "source": [
    "# computing laplacian of graph\n",
    "lap_comb = G_gsp.compute_laplacian(lap_type='combinatorial') # 'combinatorial' or 'normalized'\n",
    "\n",
    "# computing eigendecomposition of the laplacian\n",
    "G_gsp.compute_fourier_basis(recompute=True)"
   ]
  },
  {
   "cell_type": "code",
   "execution_count": 39,
   "metadata": {},
   "outputs": [
    {
     "data": {
      "image/png": "[encoded data removed]",
      "text/plain": [
       "<Figure size 432x288 with 1 Axes>"
      ]
     },
     "metadata": {
      "needs_background": "light"
     },
     "output_type": "display_data"
    }
   ],
   "source": [
    "plt.plot(G_gsp.e);"
   ]
  },
  {
   "cell_type": "code",
   "execution_count": null,
   "metadata": {},
   "outputs": [
    {
     "name": "stderr",
     "output_type": "stream",
     "text": [
      "2020-01-10 18:56:12,464:[WARNING](pygsp.graphs.graph.compute_fourier_basis): Computing the full eigendecomposition of a large matrix (4770 x 4770) may take some time.\n"
     ]
    }
   ],
   "source": [
    "# computing laplacian of graph\n",
    "lap_norm = G_gsp.compute_laplacian(lap_type='normalized') # 'combinatorial' or 'normalized'\n",
    "\n",
    "# computing eigendecomposition of the laplacian\n",
    "G_gsp.compute_fourier_basis(recompute=True)"
   ]
  },
  {
   "cell_type": "code",
   "execution_count": null,
   "metadata": {},
   "outputs": [],
   "source": [
    "plt.plot(G_gsp.e);"
   ]
  },
  {
   "cell_type": "code",
   "execution_count": null,
   "metadata": {},
   "outputs": [],
   "source": [
    "# an eigenvector\n",
    "eigenevector_index = 0\n",
    "#G_gsp.U[:,eigenevector_index]"
   ]
  },
  {
   "cell_type": "code",
   "execution_count": null,
   "metadata": {},
   "outputs": [],
   "source": [
    "# plot the first eigenvector\n",
    "eigenevector_index = 0\n",
    "fig, axes = plt.subplots(1, 1, figsize=(15, 8))\n",
    "G_gsp.plot_signal(signal=G_gsp.U[:, eigenevector_index],vertex_size=0.5,ax=axes, limits=[-0.075, 0.075], plot_name='1st eigenvector')\n",
    "\n",
    "#comparing with the hundredth\n",
    "eigenevector_index = 100\n",
    "fig, axes = plt.subplots(1, 1, figsize=(15, 8))\n",
    "G_gsp.plot_signal(signal=G_gsp.U[:, eigenevector_index],vertex_size=0.5,ax=axes, limits=[-0.075, 0.075], plot_name='100th eigenvector')"
   ]
  },
  {
   "cell_type": "markdown",
   "metadata": {},
   "source": [
    "## Exploitation - Prediction of the price\n",
    "\n",
    "The goal of this section is the predict the price of airbnbs. We will first use Machine Learning techniques, and then spectral filtering to improve the result. We'll use the assumptions that close airbnbs should have close price."
   ]
  },
  {
   "cell_type": "code",
   "execution_count": null,
   "metadata": {},
   "outputs": [],
   "source": [
    "# groundtruth of the price\n",
    "fig, axes = plt.subplots(1, 1, figsize=(15, 8))\n",
    "G_gsp.plot_signal(signal=df_red.price,vertex_size=0.5, limits=[0, upper_bound], ax=axes)"
   ]
  },
  {
   "cell_type": "code",
   "execution_count": null,
   "metadata": {},
   "outputs": [],
   "source": [
    "shuffled_index = df_red.sample(frac=1).index\n",
    "reordered_index = df_red.index\n",
    "df_red.fillna(0, inplace=True) # there are nan values in 'last_review' and 'reviews_per_month' features\n",
    "df_red.head(1)"
   ]
  },
  {
   "cell_type": "code",
   "execution_count": null,
   "metadata": {},
   "outputs": [],
   "source": [
    "def normalize_serie(x):\n",
    "    return (x - x.mean())/x.std()"
   ]
  },
  {
   "cell_type": "code",
   "execution_count": null,
   "metadata": {},
   "outputs": [],
   "source": [
    "# creating new features for machine learning \n",
    "df_red['manhattan'] = (df_red.neighbourhood_group == 'Manhattan').astype(int)\n",
    "df_red['brooklyn'] = (df_red.neighbourhood_group == 'Brooklyn').astype(int)\n",
    "df_red['queens'] = (df_red.neighbourhood_group == 'Queens').astype(int)\n",
    "df_red['bronx'] = (df_red.neighbourhood_group == 'Bronx').astype(int)\n",
    "df_red['staten_island'] = (df_red.neighbourhood_group == 'Staten Island').astype(int)\n",
    "df_red['home'] = (df_red.room_type == 'Entire home/apt').astype(int)\n",
    "df_red['private_room'] = (df_red.room_type == 'Private room').astype(int)\n",
    "df_red['shared_room'] = (df_red.room_type == 'Shared room').astype(int)"
   ]
  },
  {
   "cell_type": "code",
   "execution_count": null,
   "metadata": {},
   "outputs": [],
   "source": [
    "from sklearn.linear_model import RidgeCV, LinearRegression\n",
    "from sklearn.metrics import mean_squared_error\n",
    "from sklearn.preprocessing import normalize, StandardScaler"
   ]
  },
  {
   "cell_type": "code",
   "execution_count": null,
   "metadata": {},
   "outputs": [],
   "source": [
    "df_red.columns"
   ]
  },
  {
   "cell_type": "code",
   "execution_count": null,
   "metadata": {},
   "outputs": [],
   "source": [
    "# suffling the data\n",
    "df_red.reindex(shuffled_index)\n",
    "\n",
    "# features when need to predict the price\n",
    "features_to_augment = df_red[['utm_x', 'utm_y']].values\n",
    "features_neighbourhood = df_red[['brooklyn', 'queens', 'bronx', 'staten_island']].values\n",
    "features_basics = df_red[['number_of_reviews', 'reviews_per_month', 'availability_365', 'calculated_host_listings_count', 'home', 'private_room', 'shared_room']].values\n",
    "features_known = df_red[['calculated_host_listings_count', 'home', 'private_room', 'shared_room']].values\n",
    "\n"
   ]
  },
  {
   "cell_type": "code",
   "execution_count": null,
   "metadata": {},
   "outputs": [],
   "source": [
    "# augmenting features\n",
    "def build_poly(x, degree):\n",
    "    \"\"\"build polynomial for ridge regression\"\"\"\n",
    "    nb_features = x.shape[1]\n",
    "    nb_samples = x.shape[0]\n",
    "    x_poly = np.ones((nb_samples, 1))\n",
    "    for d in range(1, degree + 1):\n",
    "        x_d = x**d\n",
    "        x_poly = np.hstack((x_poly, x_d))\n",
    "    return x_poly"
   ]
  },
  {
   "cell_type": "code",
   "execution_count": null,
   "metadata": {},
   "outputs": [],
   "source": [
    "features_augmented = build_poly(features_to_augment, 3)\n",
    "# features = np.hstack((features_augmented, features_neighbourhood, features_known))\n",
    "features = np.hstack((features_neighbourhood, features_known))\n",
    "# features = features_basics"
   ]
  },
  {
   "cell_type": "code",
   "execution_count": null,
   "metadata": {},
   "outputs": [],
   "source": [
    "# building a 5-fold ridge regression\n",
    "rr = RidgeCV(fit_intercept=False, normalize=False, cv=5, alphas=np.logspace(-5, -1, 20))\n",
    "rr.fit(X=features, y=df_red.price.values)"
   ]
  },
  {
   "cell_type": "code",
   "execution_count": null,
   "metadata": {},
   "outputs": [],
   "source": [
    "# predicting the price \n",
    "price_pred_1 = rr.predict(X=features)\n",
    "price_pred_1"
   ]
  },
  {
   "cell_type": "code",
   "execution_count": null,
   "metadata": {},
   "outputs": [],
   "source": [
    "mse_1 = mean_squared_error(y_true=df_red.price.values, y_pred=price_pred_1)\n",
    "mse_1"
   ]
  },
  {
   "cell_type": "code",
   "execution_count": null,
   "metadata": {},
   "outputs": [],
   "source": [
    "df_red['price_pred_1'] = price_pred_1\n",
    "df_red.reindex(reordered_index).head(1)"
   ]
  },
  {
   "cell_type": "code",
   "execution_count": null,
   "metadata": {},
   "outputs": [],
   "source": [
    "# predicted price using only ML techniques\n",
    "fig, axes = plt.subplots(1, 1, figsize=(15, 8))\n",
    "G_gsp.plot_signal(signal=df_red.price_pred_1, vertex_size=0.5, limits=[0, upper_bound], ax=axes)"
   ]
  },
  {
   "cell_type": "markdown",
   "metadata": {},
   "source": [
    "### Now let's assume that the price is a signal on our graph"
   ]
  },
  {
   "cell_type": "code",
   "execution_count": null,
   "metadata": {},
   "outputs": [],
   "source": [
    "def GFT(signal: np.ndarray):\n",
    "    return G_gsp.U.T @ signal\n",
    "\n",
    "def iGFT(fourier_coefficients: np.ndarray):\n",
    "    return G_hsp.U @ fourier_coefficients"
   ]
  },
  {
   "cell_type": "code",
   "execution_count": null,
   "metadata": {},
   "outputs": [],
   "source": [
    "# graph spectrum of the price signal\n",
    "plt.figure(figsize=(10, 6))\n",
    "plt.plot(G_gsp.e, np.abs(GFT(df_red.price)), 'g-')\n",
    "plt.xlabel('$\\lambda$')\n",
    "plt.ylabel('GFT')\n",
    "plt.legend(['$price$', '$x$'])\n",
    "plt.plot()"
   ]
  },
  {
   "cell_type": "code",
   "execution_count": null,
   "metadata": {},
   "outputs": [],
   "source": [
    "# ideal Tikhonov regularization filter\n",
    "c = 3\n",
    "# 6 gives good results for basics_features, 3 for features with neighbourhoods\n",
    "\n",
    "alpha = 0.99 / (np.max(G_gsp.e) / c)\n",
    "ideal_tk =  1 / (1 + alpha * G_gsp.e)\n",
    "\n",
    "# low-pass filter\n",
    "ideal_lp = np.ones((G_gsp.N,))\n",
    "threshold = 0.9\n",
    "ideal_lp[G_gsp.e >= threshold] = 0\n",
    "\n",
    "plt.plot(G_gsp.e, ideal_tk, '-', label='Tikhonov')\n",
    "plt.plot(G_gsp.e, ideal_lp, '-', label='LP')\n",
    "plt.xlabel('$\\lambda$')\n",
    "plt.ylabel('Spectral response')\n",
    "plt.legend(loc='lower right')\n",
    "plt.plot()"
   ]
  },
  {
   "cell_type": "code",
   "execution_count": null,
   "metadata": {},
   "outputs": [],
   "source": [
    "ideal_filter = ideal_tk"
   ]
  },
  {
   "cell_type": "code",
   "execution_count": null,
   "metadata": {},
   "outputs": [],
   "source": [
    "# order will be the maximum degree of the polynomial, so there will be order+1 coefficients\n",
    "def fit_polynomial(lam: np.ndarray, order: int, spectral_response: np.ndarray):\n",
    "    \"\"\" Return an array of polynomial coefficients of length 'order'.\"\"\"\n",
    "    vdmd = np.vander(np.sort(lam), order+1, increasing=True)\n",
    "    c, res, rank, s = np.linalg.lstsq(vdmd, spectral_response, rcond=None) # we work in the frequency domain\n",
    "    return c"
   ]
  },
  {
   "cell_type": "code",
   "execution_count": null,
   "metadata": {},
   "outputs": [],
   "source": [
    "def polynomial_graph_filter(coeff: np.array):\n",
    "    \"\"\" Return the laplacian polynomial with coefficients 'coeff'. \"\"\"\n",
    "    e_values = G_gsp.e\n",
    "    e_vectors = G_gsp.U\n",
    "    e_values_filter = polynomial_graph_filter_response(coeff, e_values)\n",
    "    return e_vectors @ np.diag(e_values_filter) @ e_vectors.T"
   ]
  },
  {
   "cell_type": "code",
   "execution_count": null,
   "metadata": {},
   "outputs": [],
   "source": [
    "def polynomial_graph_filter_response(coeff: np.array, lam: np.ndarray):\n",
    "    \"\"\" Return an array of the same shape as lam.\n",
    "        response[i] is the spectral response at frequency lam[i]. \"\"\"\n",
    "    response = np.zeros(lam.shape[0])\n",
    "    order = coeff.shape[0]\n",
    "    for i in range(response.shape[0]): \n",
    "        for k in range(order):\n",
    "            response[i] += coeff[k]*lam[i]**k\n",
    "    return response"
   ]
  },
  {
   "cell_type": "code",
   "execution_count": null,
   "metadata": {},
   "outputs": [],
   "source": [
    "order =  5\n",
    "\n",
    "coeff = fit_polynomial(G_gsp.e, order, ideal_filter)\n",
    "graph_filter = polynomial_graph_filter(coeff)"
   ]
  },
  {
   "cell_type": "code",
   "execution_count": null,
   "metadata": {},
   "outputs": [],
   "source": [
    "plt.plot(G_gsp.e, ideal_filter)\n",
    "plt.plot(G_gsp.e, polynomial_graph_filter_response(coeff, G_gsp.e))\n",
    "plt.legend(['Ideal', 'Polynomial'])\n",
    "plt.xlabel('$\\lambda$')\n",
    "plt.ylabel('Spectral response')"
   ]
  },
  {
   "cell_type": "code",
   "execution_count": null,
   "metadata": {},
   "outputs": [],
   "source": [
    "filtered_features = graph_filter @ features\n",
    "df_red.reindex(shuffled_index);"
   ]
  },
  {
   "cell_type": "code",
   "execution_count": null,
   "metadata": {},
   "outputs": [],
   "source": [
    "rr.fit(X=filtered_features, y=df_red.price.values)"
   ]
  },
  {
   "cell_type": "code",
   "execution_count": null,
   "metadata": {},
   "outputs": [],
   "source": [
    "# predicting the price \n",
    "price_pred_2 = rr.predict(X=filtered_features)"
   ]
  },
  {
   "cell_type": "code",
   "execution_count": null,
   "metadata": {},
   "outputs": [],
   "source": [
    "mse_2 = mean_squared_error(y_true=df_red.price.values, y_pred=price_pred_2)\n",
    "mse_2"
   ]
  },
  {
   "cell_type": "code",
   "execution_count": null,
   "metadata": {},
   "outputs": [],
   "source": [
    "df_red['price_pred_2'] = price_pred_2\n",
    "df_red.reindex(reordered_index);"
   ]
  },
  {
   "cell_type": "code",
   "execution_count": null,
   "metadata": {},
   "outputs": [],
   "source": [
    "# plot the predicted price - very different from the groundtruth!\n",
    "fig, axes = plt.subplots(1, 1, figsize=(15, 8))\n",
    "G_gsp.plot_signal(signal=df_red.price_pred_2, vertex_size=0.5, limits=[0,300], ax=axes)"
   ]
  },
  {
   "cell_type": "code",
   "execution_count": null,
   "metadata": {},
   "outputs": [],
   "source": [
    "print('the price are now more accurate of {:.3f} in average'.format(np.sqrt(mse_1 - mse_2)))"
   ]
  }
 ],
 "metadata": {
  "kernelspec": {
   "display_name": "Python 3",
   "language": "python",
   "name": "python3"
  },
  "language_info": {
   "codemirror_mode": {
    "name": "ipython",
    "version": 3
   },
   "file_extension": ".py",
   "mimetype": "text/x-python",
   "name": "python",
   "nbconvert_exporter": "python",
   "pygments_lexer": "ipython3",
   "version": "3.7.3"
  }
 },
 "nbformat": 4,
 "nbformat_minor": 4
}
